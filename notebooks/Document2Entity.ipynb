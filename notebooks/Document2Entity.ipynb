{
 "nbformat": 4,
 "nbformat_minor": 2,
 "metadata": {
  "language_info": {
   "name": "python",
   "codemirror_mode": {
    "name": "ipython",
    "version": 3
   },
   "version": "3.7.5"
  },
  "orig_nbformat": 2,
  "file_extension": ".py",
  "mimetype": "text/x-python",
  "name": "python",
  "npconvert_exporter": "python",
  "pygments_lexer": "ipython3",
  "version": 3
 },
 "cells": [
  {
   "cell_type": "code",
   "execution_count": 33,
   "metadata": {},
   "outputs": [
    {
     "name": "stdout",
     "output_type": "stream",
     "text": "/mnt/nfs/work1/smsarwar/sremit\ndata loaded\n"
    }
   ],
   "source": [
    "import pandas as pd \n",
    "import os \n",
    "print(os.getcwd())\n",
    "data = pd.read_csv(\"small_data/rob_document_mentions.data\", sep=\"\\t\")\n",
    "qrel = pd.read_csv(\"small_data/rob_entity_ranking.qrel\", sep=\" \", header=None)\n",
    "\n",
    "print(\"data loaded\")\n"
   ]
  },
  {
   "cell_type": "code",
   "execution_count": 36,
   "metadata": {},
   "outputs": [
    {
     "data": {
      "text/html": "<div>\n<style scoped>\n    .dataframe tbody tr th:only-of-type {\n        vertical-align: middle;\n    }\n\n    .dataframe tbody tr th {\n        vertical-align: top;\n    }\n\n    .dataframe thead th {\n        text-align: right;\n    }\n</style>\n<table border=\"1\" class=\"dataframe\">\n  <thead>\n    <tr style=\"text-align: right;\">\n      <th></th>\n      <th>2</th>\n    </tr>\n  </thead>\n  <tbody>\n    <tr>\n      <th>0</th>\n      <td>AIDES</td>\n    </tr>\n    <tr>\n      <th>1</th>\n      <td>AIDS</td>\n    </tr>\n    <tr>\n      <th>2</th>\n      <td>Alfred_A._Knopf</td>\n    </tr>\n    <tr>\n      <th>3</th>\n      <td>Americans</td>\n    </tr>\n    <tr>\n      <th>4</th>\n      <td>Americas</td>\n    </tr>\n    <tr>\n      <th>...</th>\n      <td>...</td>\n    </tr>\n    <tr>\n      <th>1245</th>\n      <td>Vietnam_Veterans_of_America</td>\n    </tr>\n    <tr>\n      <th>1246</th>\n      <td>Vietnam_War</td>\n    </tr>\n    <tr>\n      <th>1247</th>\n      <td>White_House</td>\n    </tr>\n    <tr>\n      <th>1248</th>\n      <td>Winona,_Mississippi</td>\n    </tr>\n    <tr>\n      <th>1249</th>\n      <td>ZIP_code</td>\n    </tr>\n  </tbody>\n</table>\n<p>1250 rows × 1 columns</p>\n</div>",
      "text/plain": "                                2\n0                           AIDES\n1                            AIDS\n2                 Alfred_A._Knopf\n3                       Americans\n4                        Americas\n...                           ...\n1245  Vietnam_Veterans_of_America\n1246                  Vietnam_War\n1247                  White_House\n1248          Winona,_Mississippi\n1249                     ZIP_code\n\n[1250 rows x 1 columns]"
     },
     "execution_count": 36,
     "metadata": {},
     "output_type": "execute_result"
    }
   ],
   "source": [
    "qrel.iloc[:,[2]]"
   ]
  },
  {
   "cell_type": "code",
   "execution_count": 37,
   "metadata": {},
   "outputs": [
    {
     "name": "stdout",
     "output_type": "stream",
     "text": "printing data columns\nrob04_qid\tquery\tdbpedia_entity\tentity_frq_ttr\trob04_doc\tmention\toffset\tcontext_size1\tcontext_size2\tcontext_size3\t\n"
    }
   ],
   "source": [
    "print(\"printing data columns\")\n",
    "column_str = \"\"\n",
    "for col in data.columns: \n",
    "    column_str+= col + \"\\t\"\n",
    "print(column_str) \n"
   ]
  },
  {
   "cell_type": "code",
   "execution_count": 43,
   "metadata": {},
   "outputs": [
    {
     "name": "stdout",
     "output_type": "stream",
     "text": "1721\n1038\n['14th_Street', '14th_Street_Northwest_and_Southwest_(Washington,_D.C.)', '2_Live_Crew', '@UK', 'AIDES', 'AIDS', 'AIDS_Information_Centre', 'APh_Technological_Consulting', 'A_Charlie_Brown_Christmas', 'Abdullah_II_of_Jordan']\n['@UK', 'AIDES', 'AIDS', 'AIDS_Information_Centre', 'A_Charlie_Brown_Christmas', 'Abdullah_II_of_Jordan', 'Acre_(state)', 'Acre_River', 'Adam_Opel', 'Aegean_Islands']\n"
    }
   ],
   "source": [
    "entity2judgement = {}\n",
    "print(len(list(set(data[\"dbpedia_entity\"][0:]))))\n",
    "print(len(list(set(qrel.iloc[:,2]))))\n",
    "data_entities = sorted(list(set(data[\"dbpedia_entity\"][0:])))\n",
    "qrel_entities = sorted(list(set(qrel.iloc[:,2])))\n",
    "print(data_entities[0:10])\n",
    "print(qrel_entities[0:10])\n",
    "\n",
    "for index, row in qrel.iterrows():\n",
    "    qid = row[0]\n",
    "    eid = row[2]\n",
    "    judgement = row[3]\n",
    "    entity2judgement.setdefault(qid, {})\n",
    "    entity2judgement[qid][eid] = judgement"
   ]
  },
  {
   "cell_type": "code",
   "execution_count": 50,
   "metadata": {},
   "outputs": [
    {
     "name": "stdout",
     "output_type": "stream",
     "text": "25\n"
    }
   ],
   "source": [
    "print(len(entity2judgement))"
   ]
  },
  {
   "cell_type": "code",
   "execution_count": 51,
   "metadata": {},
   "outputs": [],
   "source": [
    "#rob04_qid\tquery\tdbpedia_entity\tentity_frq_ttr\trob04_doc\tmention\toffset\tcontext_size1 context_size2 context_size3\n",
    "\n",
    "import json \n",
    "\n",
    "query2doc = {} \n",
    "query2entity = {}\n",
    "\n",
    "for index, row in data.iterrows():\n",
    "    qid = row['rob04_qid']\n",
    "    entity = row['dbpedia_entity']\n",
    "    document = row['rob04_doc']\n",
    "\n",
    "    query2doc.setdefault(qid, {})\n",
    "    query2doc[qid].setdefault(document, [])\n",
    "    query2entity.setdefault(qid, [])\n",
    "    \n",
    "    if qid in entity2judgement:\n",
    "        entity_dict = entity2judgement[qid]\n",
    "        if entity in entity_dict:\n",
    "            judgement = entity_dict[entity]\n",
    "            query2entity[qid].append((entity, judgement))\n",
    "            query2doc[qid][document].append((entity, judgement))\n",
    "        else:\n",
    "            query2entity[qid].append((entity, 0.0))\n",
    "            query2doc[qid][document].append((entity, 0.0))"
   ]
  },
  {
   "cell_type": "code",
   "execution_count": 52,
   "metadata": {},
   "outputs": [],
   "source": [
    "for qid in entity2judgement:\n",
    "    entities = entity2judgement[qid]\n",
    "    entities = sorted(entities, key=lambda x: x[1], reverse=True)\n",
    "    entity2judgement[qid] = entities "
   ]
  },
  {
   "cell_type": "code",
   "execution_count": 53,
   "metadata": {},
   "outputs": [
    {
     "ename": "TypeError",
     "evalue": "'builtin_function_or_method' object is not subscriptable",
     "output_type": "error",
     "traceback": [
      "\u001b[0;31m---------------------------------------------------------------------------\u001b[0m",
      "\u001b[0;31mTypeError\u001b[0m                                 Traceback (most recent call last)",
      "\u001b[0;32m<ipython-input-53-0401be2974de>\u001b[0m in \u001b[0;36m<module>\u001b[0;34m\u001b[0m\n\u001b[1;32m     14\u001b[0m                 \u001b[0mjudgement\u001b[0m \u001b[0;34m=\u001b[0m \u001b[0mentity\u001b[0m\u001b[0;34m[\u001b[0m\u001b[0;36m1\u001b[0m\u001b[0;34m]\u001b[0m\u001b[0;34m\u001b[0m\u001b[0;34m\u001b[0m\u001b[0m\n\u001b[1;32m     15\u001b[0m                 \u001b[0;32mif\u001b[0m \u001b[0mentity_string\u001b[0m \u001b[0;32min\u001b[0m \u001b[0mdocument_entity_set\u001b[0m\u001b[0;34m:\u001b[0m\u001b[0;34m\u001b[0m\u001b[0;34m\u001b[0m\u001b[0m\n\u001b[0;32m---> 16\u001b[0;31m                     \u001b[0mjudged_entities_present\u001b[0m\u001b[0;34m.\u001b[0m\u001b[0mappend\u001b[0m\u001b[0;34m[\u001b[0m\u001b[0;34m(\u001b[0m\u001b[0mentity_string\u001b[0m\u001b[0;34m,\u001b[0m \u001b[0mjudgement\u001b[0m\u001b[0;34m)\u001b[0m\u001b[0;34m]\u001b[0m\u001b[0;34m\u001b[0m\u001b[0;34m\u001b[0m\u001b[0m\n\u001b[0m\u001b[1;32m     17\u001b[0m                 \u001b[0;32melse\u001b[0m\u001b[0;34m:\u001b[0m\u001b[0;34m\u001b[0m\u001b[0;34m\u001b[0m\u001b[0m\n\u001b[1;32m     18\u001b[0m                     \u001b[0mjudged_entities_absent\u001b[0m\u001b[0;34m.\u001b[0m\u001b[0mappend\u001b[0m\u001b[0;34m[\u001b[0m\u001b[0;34m(\u001b[0m\u001b[0mentity_string\u001b[0m\u001b[0;34m,\u001b[0m \u001b[0mjudgement\u001b[0m\u001b[0;34m)\u001b[0m\u001b[0;34m]\u001b[0m\u001b[0;34m\u001b[0m\u001b[0;34m\u001b[0m\u001b[0m\n",
      "\u001b[0;31mTypeError\u001b[0m: 'builtin_function_or_method' object is not subscriptable"
     ]
    }
   ],
   "source": [
    "for qid in query2doc:\n",
    "    if qid in entity2judgement:\n",
    "        documents = query2doc[qid]\n",
    "        judged_entities = query2entity[qid]\n",
    "\n",
    "        for document in documents.keys():            \n",
    "            judged_entities_present = []\n",
    "            judged_entities_absent = []\n",
    "            entities = documents[document]\n",
    "            document_entity_set = set([entity[0] for entity in entities])\n",
    "\n",
    "            for entity in judged_entities:\n",
    "                entity_string = entity[0]\n",
    "                judgement = entity[1]\n",
    "                if entity_string in document_entity_set:\n",
    "                    judged_entities_present.append((entity_string, judgement))\n",
    "                else:\n",
    "                    judged_entities_absent.append((entity_string, judgement))\n",
    "            print(document)\n",
    "            print(judged_entities_present[0:5])\n",
    "            print(judged_entities_absent[0:5])\n",
    "            \n",
    "\n",
    "\n",
    "\n",
    "        "
   ]
  },
  {
   "cell_type": "code",
   "execution_count": null,
   "metadata": {},
   "outputs": [],
   "source": []
  }
 ]
}